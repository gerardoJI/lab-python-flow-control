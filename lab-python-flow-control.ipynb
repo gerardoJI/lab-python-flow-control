{
 "cells": [
  {
   "cell_type": "markdown",
   "id": "d3bfc191-8885-42ee-b0a0-bbab867c6f9f",
   "metadata": {
    "tags": []
   },
   "source": [
    "# Lab | Flow Control"
   ]
  },
  {
   "cell_type": "markdown",
   "id": "3851fcd1-cf98-4653-9c89-e003b7ec9400",
   "metadata": {},
   "source": [
    "## Exercise: Managing Customer Orders Optimized\n",
    "\n",
    "In the last lab, you were starting an online store that sells various products. To ensure smooth operations, you developed a program that manages customer orders and inventory.\n",
    "\n",
    "You did so without using flow control. Let's go a step further and improve this code.\n",
    "\n",
    "Follow the steps below to complete the exercise:\n",
    "\n",
    "1. Look at your code from the lab data structures, and improve repeated code with loops.\n",
    "\n",
    "2. Instead of asking the user to input the name of three products that a customer wants to order, do the following:\n",
    "    \n",
    "    a. Prompt the user to enter the name of a product that a customer wants to order.\n",
    "    \n",
    "    b. Add the product name to the \"customer_orders\" set.\n",
    "    \n",
    "    c. Ask the user if they want to add another product (yes/no).\n",
    "    \n",
    "    d. Continue the loop until the user does not want to add another product.\n",
    "\n",
    "3. Instead of updating the inventory by subtracting 1 from the quantity of each product, only do it for  the products that were ordered (those in \"customer_orders\")."
   ]
  },
  {
   "cell_type": "code",
   "execution_count": 3,
   "id": "e7e358f2",
   "metadata": {},
   "outputs": [
    {
     "name": "stdout",
     "output_type": "stream",
     "text": [
      "{'t-shirt': 7, 'mug': 7, 'hat': 7, 'book': 7, 'keychain': 7}\n"
     ]
    }
   ],
   "source": [
    "products=[\"t-shirt\", \"mug\", \"hat\", \"book\", \"keychain\"]\n",
    "inventory={}\n",
    "for p in products:\n",
    "    cantidad=int(input(f\"Introduce the number of {p} aviable in stock: \"))\n",
    "    inventory[p]=cantidad\n",
    "print(inventory)\n",
    "customer_orders=set() #crea un set de datos vacío"
   ]
  },
  {
   "cell_type": "code",
   "execution_count": 7,
   "id": "3c5e48d9",
   "metadata": {},
   "outputs": [
    {
     "name": "stdout",
     "output_type": "stream",
     "text": [
      "{'hat', 'book'}\n"
     ]
    }
   ],
   "source": [
    "seguir1=\"si\"\n",
    "while seguir1 == \"si\":\n",
    "    producto=input(f\"Introduce the name of product in the store : \")\n",
    "    customer_orders.add(producto)\n",
    "    seguir=input(\"¿Quieres añadir otro producto (si/no)?\")\n",
    "    seguir1=seguir.strip().lower()\n",
    "    \n",
    "print(customer_orders)"
   ]
  },
  {
   "cell_type": "code",
   "execution_count": 8,
   "id": "d569fa31",
   "metadata": {},
   "outputs": [],
   "source": [
    "for n in customer_orders:\n",
    "    inventory[n]=inventory[n]-1"
   ]
  },
  {
   "cell_type": "code",
   "execution_count": 9,
   "id": "8029ed77",
   "metadata": {},
   "outputs": [
    {
     "name": "stdout",
     "output_type": "stream",
     "text": [
      "t-shirt = 7\n",
      "mug = 7\n",
      "hat = 6\n",
      "book = 6\n",
      "keychain = 7\n"
     ]
    }
   ],
   "source": [
    "for p in inventory:\n",
    "    print(f\"{p} = {inventory[p]}\")"
   ]
  }
 ],
 "metadata": {
  "kernelspec": {
   "display_name": "base",
   "language": "python",
   "name": "python3"
  },
  "language_info": {
   "codemirror_mode": {
    "name": "ipython",
    "version": 3
   },
   "file_extension": ".py",
   "mimetype": "text/x-python",
   "name": "python",
   "nbconvert_exporter": "python",
   "pygments_lexer": "ipython3",
   "version": "3.12.4"
  }
 },
 "nbformat": 4,
 "nbformat_minor": 5
}
